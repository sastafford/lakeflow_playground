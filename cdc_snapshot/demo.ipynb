{
 "cells": [
  {
   "cell_type": "code",
   "execution_count": 0,
   "metadata": {
    "application/vnd.databricks.v1+cell": {
     "cellMetadata": {
      "byteLimit": 2048000,
      "rowLimit": 10000
     },
     "inputWidgets": {},
     "nuid": "a3855390-9609-4d8e-8e12-8ffa4190d4e3",
     "showTitle": false,
     "tableResultSettingsMap": {},
     "title": ""
    }
   },
   "outputs": [],
   "source": [
    "# This will be the volume that was created after creating the bundle\n",
    "\n",
    "volume_home = \"/Volumes/usa/<firstName_lastName>_cdc_snapshot\""
   ]
  },
  {
   "cell_type": "markdown",
   "metadata": {
    "application/vnd.databricks.v1+cell": {
     "cellMetadata": {},
     "inputWidgets": {},
     "nuid": "b4413f01-19b3-44b8-97d8-11c34538afa6",
     "showTitle": false,
     "tableResultSettingsMap": {},
     "title": ""
    }
   },
   "source": [
    "## Before running the cdc snapshot pipeline, create a snapshot of data and put into the volume that was created"
   ]
  },
  {
   "cell_type": "code",
   "execution_count": 0,
   "metadata": {
    "application/vnd.databricks.v1+cell": {
     "cellMetadata": {
      "byteLimit": 2048000,
      "rowLimit": 10000
     },
     "inputWidgets": {},
     "nuid": "6bca260b-13d1-448f-8082-30b60a85c9ae",
     "showTitle": true,
     "tableResultSettingsMap": {},
     "title": "Add snapshot 1"
    }
   },
   "outputs": [],
   "source": [
    "import pandas as pd\n",
    "\n",
    "data = [\n",
    "    [1, 'Alice', 30, 1],\n",
    "    [2, 'Bob', 28, 1],\n",
    "    [3, 'Charlie', 35, 1]\n",
    "]\n",
    "\n",
    "df = pd.DataFrame(data, columns=['id', 'name', 'age', 'snapshot'])\n",
    "df.to_csv(volume_home + \"/temp/snapshot_1.csv\", index=False)"
   ]
  },
  {
   "cell_type": "markdown",
   "metadata": {
    "application/vnd.databricks.v1+cell": {
     "cellMetadata": {},
     "inputWidgets": {},
     "nuid": "e6f26787-38af-4a8a-b06b-323edbde7e2c",
     "showTitle": false,
     "tableResultSettingsMap": {},
     "title": ""
    }
   },
   "source": [
    "## Run the CDC Pipeline, view the silver table results"
   ]
  },
  {
   "cell_type": "markdown",
   "metadata": {
    "application/vnd.databricks.v1+cell": {
     "cellMetadata": {},
     "inputWidgets": {},
     "nuid": "7b9f69b3-5ebb-4b3e-97db-3bdac73f643a",
     "showTitle": false,
     "tableResultSettingsMap": {},
     "title": ""
    }
   },
   "source": [
    "## Now add a second snapshot into the same volume.  AutoLoader will prevent the first snapshot from being ingested a second time. "
   ]
  },
  {
   "cell_type": "code",
   "execution_count": 0,
   "metadata": {
    "application/vnd.databricks.v1+cell": {
     "cellMetadata": {
      "byteLimit": 2048000,
      "rowLimit": 10000
     },
     "inputWidgets": {},
     "nuid": "24f43fd0-5233-4338-a9b6-276dcc0b0c5c",
     "showTitle": false,
     "tableResultSettingsMap": {},
     "title": ""
    }
   },
   "outputs": [],
   "source": [
    "import pandas as pd\n",
    "\n",
    "data = [\n",
    "    [1, 'Alice Jay', 30, 2],\n",
    "    [2, 'Bob', 32, 2],\n",
    "    [4, 'Danny Boy', 45, 2]\n",
    "]\n",
    "\n",
    "df = pd.DataFrame(data, columns=['id', 'name', 'age', 'snapshot'])\n",
    "df.to_csv(volume_home + \"/temp/snapshot_2.csv\", index=False)"
   ]
  },
  {
   "cell_type": "markdown",
   "metadata": {
    "application/vnd.databricks.v1+cell": {
     "cellMetadata": {},
     "inputWidgets": {},
     "nuid": "c0493970-01a3-4190-97d8-d9bb5dd275b8",
     "showTitle": false,
     "tableResultSettingsMap": {},
     "title": ""
    }
   },
   "source": [
    "## Run the CDC Snapshot Pipeline again, view the silver table results.  There should be a type 1 and type 2 variants of the silver tables. "
   ]
  }
 ],
 "metadata": {
  "application/vnd.databricks.v1+notebook": {
   "computePreferences": null,
   "dashboards": [],
   "environmentMetadata": null,
   "inputWidgetPreferences": null,
   "language": "python",
   "notebookMetadata": {
    "mostRecentlyExecutedCommandWithImplicitDF": {
     "commandId": 6446718906629203,
     "dataframes": [
      "_sqldf"
     ]
    },
    "pythonIndentUnit": 2
   },
   "notebookName": "demo",
   "widgets": {}
  },
  "kernelspec": {
   "display_name": "Python 3",
   "language": "python",
   "name": "python3"
  },
  "language_info": {
   "name": "python"
  }
 },
 "nbformat": 4,
 "nbformat_minor": 0
}