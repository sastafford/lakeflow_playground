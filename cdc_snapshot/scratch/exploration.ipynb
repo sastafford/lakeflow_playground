{
 "cells": [
  {
   "cell_type": "code",
   "execution_count": 0,
   "metadata": {
    "application/vnd.databricks.v1+cell": {
     "cellMetadata": {
      "byteLimit": 2048000,
      "implicitDf": true,
      "rowLimit": 10000
     },
     "inputWidgets": {},
     "nuid": "3768e3ef-b441-4ad8-892e-2e8fad6c9f82",
     "showTitle": true,
     "tableResultSettingsMap": {},
     "title": "RESET THE DEMO"
    }
   },
   "outputs": [],
   "source": [
    "%sql\n",
    "\n",
    "USE CATALOG usa;\n",
    "USE SCHEMA scott_stafford_cdc_snapshot;\n",
    "\n",
    "DROP TABLE IF EXISTS bronze_person;\n",
    "DROP TABLE IF EXISTS silver_person;\n",
    "\n",
    "DROP VOLUME IF EXISTS temp;\n"
   ]
  },
  {
   "cell_type": "code",
   "execution_count": 0,
   "metadata": {
    "application/vnd.databricks.v1+cell": {
     "cellMetadata": {
      "byteLimit": 2048000,
      "rowLimit": 10000
     },
     "inputWidgets": {},
     "nuid": "a3855390-9609-4d8e-8e12-8ffa4190d4e3",
     "showTitle": false,
     "tableResultSettingsMap": {},
     "title": ""
    }
   },
   "outputs": [],
   "source": [
    "volume_home = \"/Volumes/usa/scott_stafford_cdc_snapshot\""
   ]
  },
  {
   "cell_type": "markdown",
   "metadata": {
    "application/vnd.databricks.v1+cell": {
     "cellMetadata": {},
     "inputWidgets": {},
     "nuid": "b4413f01-19b3-44b8-97d8-11c34538afa6",
     "showTitle": false,
     "tableResultSettingsMap": {},
     "title": ""
    }
   },
   "source": [
    "# Before running the pipeline, need to create the first snapshot"
   ]
  },
  {
   "cell_type": "code",
   "execution_count": 0,
   "metadata": {
    "application/vnd.databricks.v1+cell": {
     "cellMetadata": {
      "byteLimit": 2048000,
      "rowLimit": 10000
     },
     "inputWidgets": {},
     "nuid": "6bca260b-13d1-448f-8082-30b60a85c9ae",
     "showTitle": true,
     "tableResultSettingsMap": {},
     "title": "Add snapshot 1"
    }
   },
   "outputs": [],
   "source": [
    "import pandas as pd\n",
    "\n",
    "data = [\n",
    "    [1, 'Alice', 30, 1],\n",
    "    [2, 'Bob', 28, 1],\n",
    "    [3, 'Charlie', 35, 1]\n",
    "]\n",
    "\n",
    "df = pd.DataFrame(data, columns=['id', 'name', 'age', 'snapshot'])\n",
    "df.to_csv(volume_home + \"/temp/snapshot_1.csv\", index=False)"
   ]
  },
  {
   "cell_type": "markdown",
   "metadata": {
    "application/vnd.databricks.v1+cell": {
     "cellMetadata": {},
     "inputWidgets": {},
     "nuid": "e6f26787-38af-4a8a-b06b-323edbde7e2c",
     "showTitle": false,
     "tableResultSettingsMap": {},
     "title": ""
    }
   },
   "source": [
    "# Run the CDC Pipeline, view the silver table results"
   ]
  },
  {
   "cell_type": "code",
   "execution_count": 0,
   "metadata": {
    "application/vnd.databricks.v1+cell": {
     "cellMetadata": {
      "byteLimit": 2048000,
      "rowLimit": 10000
     },
     "inputWidgets": {},
     "nuid": "24f43fd0-5233-4338-a9b6-276dcc0b0c5c",
     "showTitle": false,
     "tableResultSettingsMap": {},
     "title": ""
    }
   },
   "outputs": [],
   "source": [
    "import pandas as pd\n",
    "\n",
    "data = [\n",
    "    [1, 'Alice Jay', 30, 2],\n",
    "    [2, 'Bob', 32, 2],\n",
    "    [4, 'Danny Boy', 45, 2]\n",
    "]\n",
    "\n",
    "df = pd.DataFrame(data, columns=['id', 'name', 'age', 'snapshot'])\n",
    "df.to_csv(volume_home + \"/temp/snapshot_2.csv\", index=False)"
   ]
  },
  {
   "cell_type": "markdown",
   "metadata": {
    "application/vnd.databricks.v1+cell": {
     "cellMetadata": {},
     "inputWidgets": {},
     "nuid": "c0493970-01a3-4190-97d8-d9bb5dd275b8",
     "showTitle": false,
     "tableResultSettingsMap": {},
     "title": ""
    }
   },
   "source": [
    "# Run the CDC Pipeline again, view the silver table results"
   ]
  }
 ],
 "metadata": {
  "application/vnd.databricks.v1+notebook": {
   "computePreferences": null,
   "dashboards": [],
   "environmentMetadata": null,
   "inputWidgetPreferences": null,
   "language": "python",
   "notebookMetadata": {
    "mostRecentlyExecutedCommandWithImplicitDF": {
     "commandId": 6446718906629203,
     "dataframes": [
      "_sqldf"
     ]
    },
    "pythonIndentUnit": 2
   },
   "notebookName": "exploration",
   "widgets": {}
  },
  "kernelspec": {
   "display_name": "Python 3",
   "language": "python",
   "name": "python3"
  },
  "language_info": {
   "name": "python"
  }
 },
 "nbformat": 4,
 "nbformat_minor": 0
}