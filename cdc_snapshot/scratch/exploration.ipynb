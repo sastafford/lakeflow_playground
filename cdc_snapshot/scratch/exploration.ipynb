{
 "cells": [
  {
   "cell_type": "code",
   "execution_count": 0,
   "metadata": {
    "application/vnd.databricks.v1+cell": {
     "cellMetadata": {
      "byteLimit": 2048000,
      "rowLimit": 10000
     },
     "inputWidgets": {},
     "nuid": "6bca260b-13d1-448f-8082-30b60a85c9ae",
     "showTitle": true,
     "tableResultSettingsMap": {},
     "title": "Add snapshot 1"
    }
   },
   "outputs": [],
   "source": [
    "import pandas as pd\n",
    "\n",
    "data = [\n",
    "    [1, 'Alice', 30, 1],\n",
    "    [2, 'Bob', 28, 1],\n",
    "    [3, 'Charlie', 35, 1]\n",
    "]\n",
    "\n",
    "df = pd.DataFrame(data, columns=['id', 'name', 'age', 'snapshot'])\n",
    "df.to_csv('/Volumes/usa/scott_stafford_cdc_snapshot/temp/snapshot_1.csv', index=False)"
   ]
  },
  {
   "cell_type": "markdown",
   "metadata": {
    "application/vnd.databricks.v1+cell": {
     "cellMetadata": {},
     "inputWidgets": {},
     "nuid": "e6f26787-38af-4a8a-b06b-323edbde7e2c",
     "showTitle": false,
     "tableResultSettingsMap": {},
     "title": ""
    }
   },
   "source": [
    "Run the CDC Pipeline"
   ]
  },
  {
   "cell_type": "code",
   "execution_count": 0,
   "metadata": {
    "application/vnd.databricks.v1+cell": {
     "cellMetadata": {
      "byteLimit": 2048000,
      "rowLimit": 10000
     },
     "inputWidgets": {},
     "nuid": "24f43fd0-5233-4338-a9b6-276dcc0b0c5c",
     "showTitle": false,
     "tableResultSettingsMap": {},
     "title": ""
    }
   },
   "outputs": [],
   "source": [
    "import pandas as pd\n",
    "\n",
    "data = [\n",
    "    [1, 'Alice Jay', 30, 2],\n",
    "    [2, 'Bob', 32, 2],\n",
    "    [4, 'Danny Boy', 45, 2]\n",
    "]\n",
    "\n",
    "df = pd.DataFrame(data, columns=['id', 'name', 'age', 'snapshot'])\n",
    "df.to_csv('/Volumes/usa/scott_stafford_cdc_snapshot/temp/snapshot_2.csv', index=False)"
   ]
  }
 ],
 "metadata": {
  "application/vnd.databricks.v1+notebook": {
   "computePreferences": null,
   "dashboards": [],
   "environmentMetadata": null,
   "inputWidgetPreferences": null,
   "language": "python",
   "notebookMetadata": {
    "mostRecentlyExecutedCommandWithImplicitDF": {
     "commandId": 6446718906627649,
     "dataframes": [
      "_sqldf"
     ]
    },
    "pythonIndentUnit": 2
   },
   "notebookName": "exploration",
   "widgets": {}
  },
  "kernelspec": {
   "display_name": "Python 3",
   "language": "python",
   "name": "python3"
  },
  "language_info": {
   "name": "python"
  }
 },
 "nbformat": 4,
 "nbformat_minor": 0
}