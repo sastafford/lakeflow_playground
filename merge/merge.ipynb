{
 "cells": [
  {
   "cell_type": "code",
   "execution_count": 0,
   "metadata": {
    "application/vnd.databricks.v1+cell": {
     "cellMetadata": {
      "byteLimit": 2048000,
      "rowLimit": 10000
     },
     "inputWidgets": {},
     "nuid": "36b97b10-e79c-47c8-9d8c-cbd2b2688aac",
     "showTitle": true,
     "tableResultSettingsMap": {},
     "title": "Create widgets"
    }
   },
   "outputs": [],
   "source": [
    "dbutils.widgets.text(\"catalog\", \"\", \"Catalog\")\n",
    "dbutils.widgets.text(\"schema\", \"\", \"Schema\")"
   ]
  },
  {
   "cell_type": "code",
   "execution_count": 0,
   "metadata": {
    "application/vnd.databricks.v1+cell": {
     "cellMetadata": {
      "byteLimit": 2048000,
      "rowLimit": 10000
     },
     "inputWidgets": {},
     "nuid": "3edd76b2-4e4e-42c8-a00c-ce9dcdfe42a5",
     "showTitle": true,
     "tableResultSettingsMap": {},
     "title": "Get widget variables"
    }
   },
   "outputs": [],
   "source": [
    "catalog = dbutils.widgets.get(\"catalog\")\n",
    "schema = dbutils.widgets.get(\"schema\")\n",
    "\n",
    "print(catalog)\n",
    "print(schema)"
   ]
  },
  {
   "cell_type": "code",
   "execution_count": 0,
   "metadata": {
    "application/vnd.databricks.v1+cell": {
     "cellMetadata": {
      "byteLimit": 2048000,
      "rowLimit": 10000
     },
     "inputWidgets": {},
     "nuid": "36f35457-8c2a-47cd-9a2c-59d0698d91b9",
     "showTitle": true,
     "tableResultSettingsMap": {},
     "title": "Insert initial data"
    }
   },
   "outputs": [],
   "source": [
    "from pyspark.sql import Row\n",
    "from pyspark.sql.functions import *\n",
    "\n",
    "data = [\n",
    "    Row(id=1, name=\"Alice\", salary=70000),\n",
    "    Row(id=2, name=\"Bob\", salary=80000),\n",
    "    Row(id=3, name=\"Charlie\", salary=75000),\n",
    "    Row(id=4, name=\"David\", salary=72000),\n",
    "    Row(id=5, name=\"Eve\", salary=78000)\n",
    "]\n",
    "\n",
    "bronze_df = spark.createDataFrame(data).withColumn(\"snapshot\", lit(1))\n",
    "display(bronze_df)"
   ]
  },
  {
   "cell_type": "code",
   "execution_count": 0,
   "metadata": {
    "application/vnd.databricks.v1+cell": {
     "cellMetadata": {
      "byteLimit": 2048000,
      "rowLimit": 10000
     },
     "inputWidgets": {},
     "nuid": "42d7c518-42a1-4169-b830-dd40f7eafc22",
     "showTitle": true,
     "tableResultSettingsMap": {},
     "title": "Set bronze and silver table names"
    }
   },
   "outputs": [],
   "source": [
    "bronze_table = \"{}.{}.bronze_person\".format(catalog, schema)\n",
    "silver_table = \"{}.{}.silver_person\".format(catalog, schema)\n",
    "\n",
    "# Use for hive metastore\n",
    "# bronze_table = \"{}.bronze_person\".format(schema)\n",
    "# silver_table = \"{}.silver_person\".format(schema)\n"
   ]
  },
  {
   "cell_type": "code",
   "execution_count": 0,
   "metadata": {
    "application/vnd.databricks.v1+cell": {
     "cellMetadata": {
      "byteLimit": 2048000,
      "rowLimit": 10000
     },
     "inputWidgets": {},
     "nuid": "0bc6f789-fd4d-4e94-ab5b-5eed3fadc9d0",
     "showTitle": true,
     "tableResultSettingsMap": {},
     "title": "Create bronze table"
    }
   },
   "outputs": [],
   "source": [
    "bronze_df.write.format(\"delta\").option(\"mergeSchema\", \"true\").mode(\"overwrite\").saveAsTable(bronze_table)"
   ]
  },
  {
   "cell_type": "code",
   "execution_count": 0,
   "metadata": {
    "application/vnd.databricks.v1+cell": {
     "cellMetadata": {
      "byteLimit": 2048000,
      "rowLimit": 10000
     },
     "inputWidgets": {},
     "nuid": "1269beaf-c07f-4af3-baed-c1be53cb1ca4",
     "showTitle": true,
     "tableResultSettingsMap": {},
     "title": "Create silver table"
    }
   },
   "outputs": [],
   "source": [
    "\n",
    "(\n",
    "  spark.read.format(\"delta\").table(bronze_table).drop(\"snapshot\")\n",
    "    .write.format(\"delta\").option(\"mergeSchema\", \"true\").mode(\"overwrite\").saveAsTable(silver_table)\n",
    ")"
   ]
  },
  {
   "cell_type": "code",
   "execution_count": 0,
   "metadata": {
    "application/vnd.databricks.v1+cell": {
     "cellMetadata": {
      "byteLimit": 2048000,
      "rowLimit": 10000
     },
     "inputWidgets": {},
     "nuid": "0710b1aa-6ca9-4942-ad78-c0964679279e",
     "showTitle": false,
     "tableResultSettingsMap": {},
     "title": ""
    }
   },
   "outputs": [],
   "source": [
    "data_2 = [\n",
    "    Row(id=1, name=\"Alice\", salary=75000, delete=False),\n",
    "    Row(id=2, name=\"Bob X\", salary=80000, delete=False),\n",
    "    Row(id=3, name=\"John\", salary=178000, delete=True),\n",
    "    Row(id=6, name=\"John\", salary=178000, delete=False)\n",
    "]\n",
    "\n",
    "bronze_df_2 = spark.createDataFrame(data_2).withColumn(\"snapshot\", lit(2))\n",
    "display(bronze_df_2)"
   ]
  },
  {
   "cell_type": "code",
   "execution_count": 0,
   "metadata": {
    "application/vnd.databricks.v1+cell": {
     "cellMetadata": {
      "byteLimit": 2048000,
      "rowLimit": 10000
     },
     "inputWidgets": {},
     "nuid": "8ef0aaf6-41bf-4c65-8610-e2b37b4443b1",
     "showTitle": false,
     "tableResultSettingsMap": {},
     "title": ""
    }
   },
   "outputs": [],
   "source": [
    "bronze_df_2.write.format(\"delta\").option(\"mergeSchema\", \"true\").mode(\"append\").saveAsTable(bronze_table)"
   ]
  },
  {
   "cell_type": "code",
   "execution_count": 0,
   "metadata": {
    "application/vnd.databricks.v1+cell": {
     "cellMetadata": {
      "byteLimit": 2048000,
      "rowLimit": 10000
     },
     "inputWidgets": {},
     "nuid": "7ec52403-05db-46d0-a6d6-a97cb8a5f659",
     "showTitle": false,
     "tableResultSettingsMap": {
      "0": {
       "dataGridStateBlob": "{\"version\":1,\"tableState\":{\"columnPinning\":{\"left\":[\"#row_number#\"],\"right\":[]},\"columnSizing\":{},\"columnVisibility\":{}},\"settings\":{\"columns\":{}},\"syncTimestamp\":1754946803234}",
       "filterBlob": null,
       "queryPlanFiltersBlob": null,
       "tableResultIndex": 0
      }
     },
     "title": ""
    }
   },
   "outputs": [],
   "source": [
    "bronze = spark.sql(\"SELECT * FROM usa.scott_stafford_merge.bronze_person\")\n",
    "display(bronze)"
   ]
  },
  {
   "cell_type": "code",
   "execution_count": 0,
   "metadata": {
    "application/vnd.databricks.v1+cell": {
     "cellMetadata": {
      "byteLimit": 2048000,
      "implicitDf": true,
      "rowLimit": 10000
     },
     "inputWidgets": {},
     "nuid": "7ffeee18-2ea3-4b33-a46e-2668077a2596",
     "showTitle": false,
     "tableResultSettingsMap": {},
     "title": ""
    }
   },
   "outputs": [],
   "source": [
    "%sql\n",
    "USE CATALOG usa;\n",
    "USE SCHEMA scott_stafford_merge;\n",
    "\n"
   ]
  },
  {
   "cell_type": "code",
   "execution_count": 0,
   "metadata": {
    "application/vnd.databricks.v1+cell": {
     "cellMetadata": {
      "byteLimit": 2048000,
      "implicitDf": true,
      "rowLimit": 10000
     },
     "inputWidgets": {},
     "nuid": "3020c03a-5ec6-4e14-aa01-7e279f0842a6",
     "showTitle": false,
     "tableResultSettingsMap": {},
     "title": ""
    }
   },
   "outputs": [],
   "source": [
    "%sql\n",
    "CREATE OR REPLACE TEMPORARY VIEW person_snapshot AS \n",
    "  SELECT *\n",
    "  FROM bronze_person\n",
    "  WHERE snapshot = (SELECT max(snapshot) FROM bronze_person)"
   ]
  },
  {
   "cell_type": "code",
   "execution_count": 0,
   "metadata": {
    "application/vnd.databricks.v1+cell": {
     "cellMetadata": {
      "byteLimit": 2048000,
      "implicitDf": true,
      "rowLimit": 10000
     },
     "inputWidgets": {},
     "nuid": "8922679d-2474-41ac-94ef-4ca5d8051d79",
     "showTitle": false,
     "tableResultSettingsMap": {
      "0": {
       "dataGridStateBlob": "{\"version\":1,\"tableState\":{\"columnPinning\":{\"left\":[\"#row_number#\"],\"right\":[]},\"columnSizing\":{},\"columnVisibility\":{}},\"settings\":{\"columns\":{}},\"syncTimestamp\":1754946827079}",
       "filterBlob": null,
       "queryPlanFiltersBlob": null,
       "tableResultIndex": 0
      }
     },
     "title": ""
    }
   },
   "outputs": [],
   "source": [
    "%sql\n",
    "\n",
    "SELECT * FROM person_snapshot"
   ]
  },
  {
   "cell_type": "code",
   "execution_count": 0,
   "metadata": {
    "application/vnd.databricks.v1+cell": {
     "cellMetadata": {
      "byteLimit": 2048000,
      "implicitDf": true,
      "rowLimit": 10000
     },
     "inputWidgets": {},
     "nuid": "4a1cf36d-fafc-4385-bb40-ad01a820bb2a",
     "showTitle": false,
     "tableResultSettingsMap": {},
     "title": ""
    }
   },
   "outputs": [],
   "source": [
    "%sql\n",
    "\n",
    "MERGE INTO silver_person\n",
    "USING person_snapshot\n",
    "ON person_snapshot.id = silver_person.id\n",
    "WHEN MATCHED AND delete = True THEN DELETE\n",
    "WHEN MATCHED AND delete = False THEN\n",
    "  UPDATE SET\n",
    "    id = person_snapshot.id,\n",
    "    name = person_snapshot.name,\n",
    "    salary = person_snapshot.salary\n",
    "WHEN NOT MATCHED\n",
    "  THEN INSERT (\n",
    "    id,\n",
    "    name,\n",
    "    salary\n",
    "  )\n",
    "  VALUES (\n",
    "    person_snapshot.id,\n",
    "    person_snapshot.name,\n",
    "    person_snapshot.salary\n",
    "  )\n",
    "\n"
   ]
  },
  {
   "cell_type": "code",
   "execution_count": 0,
   "metadata": {
    "application/vnd.databricks.v1+cell": {
     "cellMetadata": {
      "byteLimit": 2048000,
      "implicitDf": true,
      "rowLimit": 10000
     },
     "inputWidgets": {},
     "nuid": "b48ce23d-4578-4fc1-ae70-488046cd1121",
     "showTitle": false,
     "tableResultSettingsMap": {
      "0": {
       "dataGridStateBlob": "{\"version\":1,\"tableState\":{\"columnPinning\":{\"left\":[\"#row_number#\"],\"right\":[]},\"columnSizing\":{},\"columnVisibility\":{}},\"settings\":{\"columns\":{}},\"syncTimestamp\":1754945698689}",
       "filterBlob": null,
       "queryPlanFiltersBlob": null,
       "tableResultIndex": 0
      }
     },
     "title": ""
    }
   },
   "outputs": [],
   "source": [
    "%sql\n",
    "SELECT *\n",
    "FROM silver_person\n",
    "SORT BY id ASC"
   ]
  }
 ],
 "metadata": {
  "application/vnd.databricks.v1+notebook": {
   "computePreferences": null,
   "dashboards": [],
   "environmentMetadata": {
    "base_environment": "dbe_f14fbde8-5353-4144-89be-f0a3e93fffc9",
    "environment_version": "2"
   },
   "inputWidgetPreferences": null,
   "language": "python",
   "notebookMetadata": {
    "mostRecentlyExecutedCommandWithImplicitDF": {
     "commandId": 8748648698911223,
     "dataframes": [
      "_sqldf"
     ]
    },
    "pythonIndentUnit": 2
   },
   "notebookName": "merge",
   "widgets": {
    "catalog": {
     "currentValue": "usa",
     "nuid": "23268379-7a60-4aba-8acd-b8488e856d41",
     "typedWidgetInfo": {
      "autoCreated": false,
      "defaultValue": "",
      "label": "Catalog",
      "name": "catalog",
      "options": {
       "widgetDisplayType": "Text",
       "validationRegex": null
      },
      "parameterDataType": "String"
     },
     "widgetInfo": {
      "widgetType": "text",
      "defaultValue": "",
      "label": "Catalog",
      "name": "catalog",
      "options": {
       "widgetType": "text",
       "autoCreated": null,
       "validationRegex": null
      }
     }
    },
    "schema": {
     "currentValue": "scott_stafford_merge",
     "nuid": "15c578d8-edb4-491b-b5c4-40eff320e402",
     "typedWidgetInfo": {
      "autoCreated": false,
      "defaultValue": "",
      "label": "Schema",
      "name": "schema",
      "options": {
       "widgetDisplayType": "Text",
       "validationRegex": null
      },
      "parameterDataType": "String"
     },
     "widgetInfo": {
      "widgetType": "text",
      "defaultValue": "",
      "label": "Schema",
      "name": "schema",
      "options": {
       "widgetType": "text",
       "autoCreated": null,
       "validationRegex": null
      }
     }
    }
   }
  },
  "language_info": {
   "name": "python"
  }
 },
 "nbformat": 4,
 "nbformat_minor": 0
}
